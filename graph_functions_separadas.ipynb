{
 "cells": [
  {
   "cell_type": "markdown",
   "id": "e6627089",
   "metadata": {},
   "source": [
    "# Análise de Grafos - Implementações em Python\n",
    "Este notebook contém todas as funções utilizadas para análise de grafos, separadas por funcionalidades."
   ]
  },
  {
   "cell_type": "markdown",
   "id": "2602466a",
   "metadata": {},
   "source": [
    "## Classe `Graph`"
   ]
  },
  {
   "cell_type": "code",
   "execution_count": 18,
   "id": "57a73b49",
   "metadata": {},
   "outputs": [],
   "source": [
    "class Graph:\n",
    "    def __init__(self):\n",
    "        self.vertices = [] \n",
    "        self.edges = []\n",
    "        self.arcs = []\n",
    "\n",
    "    def add_vertex(self, vertex):\n",
    "        self.vertices.append(vertex)\n",
    "\n",
    "    def add_edge(self, u, v, cost):\n",
    "        self.edges.append((u, v, cost))\n",
    "\n",
    "    def add_arc(self, u, v, cost):\n",
    "        self.arcs.append((u, v, cost))"
   ]
  },
  {
   "cell_type": "markdown",
   "id": "51fbb46c",
   "metadata": {},
   "source": [
    "## Função de leitura de arquivo"
   ]
  },
  {
   "cell_type": "code",
   "execution_count": 19,
   "id": "a98a395b",
   "metadata": {},
   "outputs": [],
   "source": [
    "def read_file(path):\n",
    "    try:\n",
    "        with open(path, \"r\", encoding=\"utf-8\") as arquivo:\n",
    "            linhas = arquivo.readlines()\n",
    "    except FileNotFoundError:\n",
    "        print(f\"Erro: Arquivo '{path}' não encontrado.\")\n",
    "        exit()\n",
    "    except Exception as e:\n",
    "        print(f\"Erro ao ler o arquivo: {e}\")\n",
    "        exit()\n",
    "\n",
    "    vertices = set()\n",
    "    arestas = set()\n",
    "    arcos = set()\n",
    "    vertices_requeridos = set()\n",
    "    arestas_requeridas = set()\n",
    "    arcos_requeridos = set()\n",
    "    secao_atual = None\n",
    "\n",
    "    for linha in linhas:\n",
    "        linha = linha.strip()\n",
    "        if not linha or linha.startswith(\"//\") or linha.startswith(\"Name:\"):\n",
    "            continue\n",
    "        if linha.startswith(\"ReN.\"):\n",
    "            secao_atual = \"ReN\"\n",
    "            continue\n",
    "        elif linha.startswith(\"ReE.\"):\n",
    "            secao_atual = \"ReE\"\n",
    "            continue\n",
    "        elif linha.startswith(\"EDGE\"):\n",
    "            secao_atual = \"EDGE\"\n",
    "            continue\n",
    "        elif linha.startswith(\"ReA.\"):\n",
    "            secao_atual = \"ReA\"\n",
    "            continue\n",
    "        elif linha.startswith(\"ARC\"):\n",
    "            secao_atual = \"ARC\"\n",
    "            continue\n",
    "\n",
    "        if linha and secao_atual:\n",
    "            partes = linha.split(\"\\t\")\n",
    "            try:\n",
    "                if secao_atual == \"ReN\":\n",
    "                    vertice = int(partes[0].replace(\"N\", \"\"))\n",
    "                    demanda = int(partes[1])\n",
    "                    custo_servico = int(partes[2])\n",
    "                    vertices_requeridos.add((vertice, (demanda, custo_servico)))\n",
    "                    vertices.add(vertice)\n",
    "                elif secao_atual in [\"ReE\", \"EDGE\"]:\n",
    "                    origem, destino = int(partes[1]), int(partes[2])\n",
    "                    vertices.update([origem, destino])\n",
    "                    aresta = (min(origem, destino), max(origem, destino))\n",
    "                    custo_transporte = int(partes[3])\n",
    "                    arestas.add((aresta, custo_transporte))\n",
    "                if secao_atual == \"ReE\":\n",
    "                    demanda = int(partes[4])\n",
    "                    custo_servico = int(partes[5])\n",
    "                    arestas_requeridas.add((aresta, (custo_transporte, demanda, custo_servico)))\n",
    "                elif secao_atual in [\"ReA\", \"ARC\"]:\n",
    "                    origem, destino = int(partes[1]), int(partes[2])\n",
    "                    vertices.update([origem, destino])\n",
    "                    arco = (origem, destino)\n",
    "                    custo_transporte = int(partes[3])\n",
    "                    arcos.add((arco, custo_transporte))\n",
    "                    if secao_atual == \"ReA\":\n",
    "                        demanda = int(partes[4])\n",
    "                        custo_servico = int(partes[5])\n",
    "                        arcos_requeridos.add((arco, (custo_transporte, demanda, custo_servico)))\n",
    "            except (ValueError, IndexError):\n",
    "                print(f\"Erro ao processar linha: {linha}\")\n",
    "                continue\n",
    "\n",
    "    if not vertices:\n",
    "        print(\"Erro: Nenhum vértice encontrado no arquivo.\")\n",
    "        exit()\n",
    "\n",
    "    return vertices, arestas, arcos, vertices_requeridos, arestas_requeridas, arcos_requeridos"
   ]
  },
  {
   "cell_type": "markdown",
   "id": "848885cd",
   "metadata": {},
   "source": [
    "## Validação do Grafo"
   ]
  },
  {
   "cell_type": "code",
   "execution_count": 20,
   "id": "4e0e6981",
   "metadata": {},
   "outputs": [],
   "source": [
    "def validar_grafo(vertices, arestas, arcos):\n",
    "    for (u, v), _ in arestas:\n",
    "        if u not in vertices or v not in vertices:\n",
    "            print(f\"Erro: Aresta ({u}, {v}) contém vértices inexistentes.\")\n",
    "            exit()\n",
    "    for (u, v), _ in arcos:\n",
    "        if u not in vertices or v not in vertices:\n",
    "            print(f\"Erro: Arco ({u}, {v}) contém vértices inexistentes.\")\n",
    "            exit()\n",
    "    print(\"Grafo validado com sucesso.\")"
   ]
  },
  {
   "cell_type": "markdown",
   "id": "311a1050",
   "metadata": {},
   "source": [
    "## Cálculo de Graus"
   ]
  },
  {
   "cell_type": "code",
   "execution_count": 21,
   "id": "9861c5cb",
   "metadata": {},
   "outputs": [],
   "source": [
    "def calcular_graus(vertices, arestas, arcos):\n",
    "    graus = {v: [0, 0, 0] for v in vertices}\n",
    "    for (u, v), _ in arestas:\n",
    "        graus[u][0] += 1\n",
    "        graus[v][0] += 1\n",
    "    for (u, v), _ in arcos:\n",
    "        graus[u][2] += 1\n",
    "        graus[v][1] += 1\n",
    "    return tuple((v, tuple(g)) for v, g in graus.items())"
   ]
  },
  {
   "cell_type": "markdown",
   "id": "81720571",
   "metadata": {},
   "source": [
    "## Busca em Largura (BFS)"
   ]
  },
  {
   "cell_type": "code",
   "execution_count": 22,
   "id": "dc32d36d",
   "metadata": {},
   "outputs": [],
   "source": [
    "def bfs(grafo, inicio):\n",
    "    visitados = set()\n",
    "    fila = [inicio]\n",
    "    resultado = []\n",
    "    while fila:\n",
    "        vertice = fila.pop(0)\n",
    "        if vertice not in visitados:\n",
    "            visitados.add(vertice)\n",
    "            resultado.append(vertice)\n",
    "            fila.extend(v for v in grafo.get(vertice, []) if v not in visitados)\n",
    "    return resultado"
   ]
  },
  {
   "cell_type": "markdown",
   "id": "a4c9fb0e",
   "metadata": {},
   "source": [
    "## Funções de Contagem"
   ]
  },
  {
   "cell_type": "code",
   "execution_count": 23,
   "id": "a6493972",
   "metadata": {},
   "outputs": [],
   "source": [
    "def quantidade_vertices(grafo):\n",
    "    return len(grafo)\n",
    "\n",
    "def quantidade_arestas(grafo):\n",
    "    return sum(len(vizinhos) for vizinhos in grafo.values()) // 2\n",
    "\n",
    "def quantidade_arcos(grafo):\n",
    "    arcos = 0\n",
    "    for u in grafo:\n",
    "        for v in grafo[u]:\n",
    "            if u in grafo[v]:\n",
    "                arcos += 1\n",
    "    return arcos // 2"
   ]
  },
  {
   "cell_type": "markdown",
   "id": "b29aba97",
   "metadata": {},
   "source": [
    "## Impressão de Graus Mínimo e Máximo"
   ]
  },
  {
   "cell_type": "code",
   "execution_count": 24,
   "id": "8385665f",
   "metadata": {},
   "outputs": [],
   "source": [
    "def imprimir_graus(graus):\n",
    "    grau_maximo = max(sum(g[1]) for g in graus)\n",
    "    grau_minimo = min(sum(g[1]) for g in graus)\n",
    "    print(\"Grau máximo:\", grau_maximo)\n",
    "    print(\"Grau mínimo:\", grau_minimo)"
   ]
  },
  {
   "cell_type": "markdown",
   "id": "218abf3f",
   "metadata": {},
   "source": [
    "## Algoritmo de Floyd-Warshall"
   ]
  },
  {
   "cell_type": "code",
   "execution_count": 25,
   "id": "9a912319",
   "metadata": {},
   "outputs": [],
   "source": [
    "def floyd_warshall(vertices, edges, arcs):\n",
    "    dist = {v: {u: float('inf') for u in vertices} for v in vertices}\n",
    "    pred = {v: {u: None for u in vertices} for v in vertices}\n",
    "    for v in vertices:\n",
    "        dist[v][v] = 0\n",
    "    for (u, v), cost in edges:\n",
    "        dist[u][v] = cost\n",
    "        dist[v][u] = cost\n",
    "        pred[u][v] = u\n",
    "        pred[v][u] = v\n",
    "    for (u, v), cost in arcs:\n",
    "        dist[u][v] = cost\n",
    "        pred[u][v] = u\n",
    "    for k in vertices:\n",
    "        for i in vertices:\n",
    "            for j in vertices:\n",
    "                if dist[i][k] + dist[k][j] < dist[i][j]:\n",
    "                    dist[i][j] = dist[i][k] + dist[k][j]\n",
    "                    pred[i][j] = pred[k][j]\n",
    "    return dist, pred"
   ]
  },
  {
   "cell_type": "markdown",
   "id": "bcb9bcca",
   "metadata": {},
   "source": [
    "## Cálculo do Caminho Médio"
   ]
  },
  {
   "cell_type": "code",
   "execution_count": 26,
   "id": "f71d0d2c",
   "metadata": {},
   "outputs": [],
   "source": [
    "def caminho_medio(vertices, edges, arcs):\n",
    "    dist, _ = floyd_warshall(vertices, edges, arcs)\n",
    "    soma = 0\n",
    "    total_pares = 0\n",
    "    for u in dist:\n",
    "        for v in dist[u]:\n",
    "            if u != v and dist[u][v] != float('inf'):\n",
    "                soma += dist[u][v]\n",
    "                total_pares += 1\n",
    "    return soma / total_pares if total_pares > 0 else 0"
   ]
  },
  {
   "cell_type": "markdown",
   "id": "20ce0d3c",
   "metadata": {},
   "source": [
    "## Cálculo da Densidade"
   ]
  },
  {
   "cell_type": "code",
   "execution_count": 27,
   "id": "38eea259",
   "metadata": {},
   "outputs": [],
   "source": [
    "def calc_densidade(num_arestas, num_arcos, num_vertices):\n",
    "    edges_max = num_vertices * (num_vertices - 1) / 2\n",
    "    arcs_max = num_vertices * (num_vertices - 1)\n",
    "    densidade = (num_arestas + num_arcos) / (edges_max + arcs_max)\n",
    "    return densidade"
   ]
  },
  {
   "cell_type": "markdown",
   "id": "a992ce23",
   "metadata": {},
   "source": [
    "## Cálculo do Diâmetro"
   ]
  },
  {
   "cell_type": "code",
   "execution_count": 28,
   "id": "5b78fe4f",
   "metadata": {},
   "outputs": [],
   "source": [
    "def calc_diametro(matriz_distancias):\n",
    "    diametro = 0\n",
    "    for origem in matriz_distancias:\n",
    "        for destino in matriz_distancias[origem]:\n",
    "            d = matriz_distancias[origem][destino]\n",
    "            if d != float('inf') and origem != destino:\n",
    "                diametro = max(diametro, d)\n",
    "    return diametro"
   ]
  },
  {
   "cell_type": "markdown",
   "id": "9fa2a924",
   "metadata": {},
   "source": [
    "## Caminho Mínimo e Intermediação"
   ]
  },
  {
   "cell_type": "code",
   "execution_count": 29,
   "id": "0d2d185d",
   "metadata": {},
   "outputs": [],
   "source": [
    "def caminho_minimo(matriz_pred, origem, destino):\n",
    "    caminho = []\n",
    "    atual = destino\n",
    "    while atual is not None:\n",
    "        caminho.insert(0, atual)\n",
    "        if atual == origem:  \n",
    "            break\n",
    "        atual = matriz_pred[origem].get(atual)\n",
    "    if caminho[0] != origem:\n",
    "        return []\n",
    "    return caminho\n",
    "\n",
    "def criar_matriz_predecessores(vertices, arestas, arcos):\n",
    "    _, predecessores = floyd_warshall(vertices, arestas, arcos)\n",
    "    return predecessores\n",
    "\n",
    "def calc_intermediacao(vertices, matriz_pred):\n",
    "    intermediacao = {v: 0 for v in vertices}\n",
    "    for origem in vertices:\n",
    "        for destino in vertices:\n",
    "            if origem != destino:\n",
    "                caminho = caminho_minimo(matriz_pred, origem, destino)\n",
    "                if len(caminho) > 1:\n",
    "                    for v in caminho[1:-1]:\n",
    "                        intermediacao[v] += 1\n",
    "    return intermediacao"
   ]
  },
  {
   "cell_type": "code",
   "execution_count": null,
   "id": "468234cf",
   "metadata": {},
   "outputs": [
    {
     "ename": "NameError",
     "evalue": "name 'vertices' is not defined",
     "output_type": "error",
     "traceback": [
      "\u001b[31m---------------------------------------------------------------------------\u001b[39m",
      "\u001b[31mNameError\u001b[39m                                 Traceback (most recent call last)",
      "\u001b[36mCell\u001b[39m\u001b[36m \u001b[39m\u001b[32mIn[30]\u001b[39m\u001b[32m, line 9\u001b[39m\n\u001b[32m      2\u001b[39m \u001b[38;5;28;01mimport\u001b[39;00m\u001b[38;5;250m \u001b[39m\u001b[34;01mmatplotlib\u001b[39;00m\u001b[34;01m.\u001b[39;00m\u001b[34;01mpyplot\u001b[39;00m\u001b[38;5;250m \u001b[39m\u001b[38;5;28;01mas\u001b[39;00m\u001b[38;5;250m \u001b[39m\u001b[34;01mplt\u001b[39;00m\n\u001b[32m      4\u001b[39m \u001b[38;5;66;03m# --- Gráfico do Grau Total dos Vértices ---\u001b[39;00m\n\u001b[32m      5\u001b[39m \n\u001b[32m      6\u001b[39m \u001b[38;5;66;03m# A função calcular_graus retorna uma tupla com (vértice, (grau, entrada, saída))\u001b[39;00m\n\u001b[32m      7\u001b[39m \u001b[38;5;66;03m# Calculamos o grau total somando os três valores de cada vértice.\u001b[39;00m\n\u001b[32m----> \u001b[39m\u001b[32m9\u001b[39m grau_total = {v: \u001b[38;5;28msum\u001b[39m(g) \u001b[38;5;28;01mfor\u001b[39;00m v, g \u001b[38;5;129;01min\u001b[39;00m calcular_graus(\u001b[43mvertices\u001b[49m, edges, arcs)}\n\u001b[32m     11\u001b[39m \u001b[38;5;66;03m# Organize os dados em um DataFrame\u001b[39;00m\n\u001b[32m     12\u001b[39m df_graus = pd.DataFrame(\u001b[38;5;28mlist\u001b[39m(grau_total.items()), columns=[\u001b[33m\"\u001b[39m\u001b[33mVértice\u001b[39m\u001b[33m\"\u001b[39m, \u001b[33m\"\u001b[39m\u001b[33mGrau Total\u001b[39m\u001b[33m\"\u001b[39m])\n",
      "\u001b[31mNameError\u001b[39m: name 'vertices' is not defined"
     ]
    }
   ],
   "source": [
    "import pandas as pd\n",
    "import matplotlib.pyplot as plt\n",
    "\n",
    "# --- Gráfico do Grau Total dos Vértices ---\n",
    "\n",
    "# A função calcular_graus retorna uma tupla com (vértice, (grau, entrada, saída))\n",
    "# Calculamos o grau total somando os três valores de cada vértice.\n",
    "\n",
    "grau_total = {v: sum(g) for v, g in calcular_graus(vertices, edges, arcs)}\n",
    "grau_total = {v: g[0] + g[1] + g[2] for v, g in grau_total.items()}\n",
    "\n",
    "# Organize os dados em um DataFrame\n",
    "df_graus = pd.DataFrame(list(grau_total.items()), columns=[\"Vértice\", \"Grau Total\"])\n",
    "df_graus = df_graus.sort_values(\"Vértice\")  # Ordena para melhor visualização\n",
    "\n",
    "# Plota o gráfico de barras para o grau total\n",
    "plt.figure(figsize=(10, 6))\n",
    "plt.bar(df_graus[\"Vértice\"].astype(str), df_graus[\"Grau Total\"], color=\"skyblue\")\n",
    "plt.title(\"Grau Total dos Vértices\")\n",
    "plt.xlabel(\"Vértice\")\n",
    "plt.ylabel(\"Grau Total\")\n",
    "plt.grid(True, axis=\"y\", linestyle=\"--\", alpha=0.7)\n",
    "plt.show()\n",
    "\n",
    "\n",
    "# --- Gráfico da Intermediação dos Vértices ---\n",
    "\n",
    "# A variável 'intermediacao' já foi calculada anteriormente utilizando a função calc_intermediacao.\n",
    "# Organize os dados em um DataFrame\n",
    "intermediacao = calc_intermediacao(vertices, criar_matriz_predecessores(vertices, edges, arcs))\n",
    "df_intermediacao = pd.DataFrame(list(intermediacao.items()), columns=[\"Vértice\", \"Intermediação\"])\n",
    "df_intermediacao = df_intermediacao.sort_values(\"Intermediação\", ascending=False)\n",
    "\n",
    "plt.figure(figsize=(10, 6))\n",
    "plt.bar(df_intermediacao[\"Vértice\"].astype(str), df_intermediacao[\"Intermediação\"], color=\"orange\")\n",
    "plt.title(\"Intermediação dos Vértices\")\n",
    "plt.xlabel(\"Vértice\")\n",
    "plt.ylabel(\"Intermediação\")\n",
    "plt.grid(True, axis=\"y\", linestyle=\"--\", alpha=0.7)\n",
    "plt.show()\n",
    "\n"
   ]
  }
 ],
 "metadata": {
  "kernelspec": {
   "display_name": "Python 3",
   "language": "python",
   "name": "python3"
  },
  "language_info": {
   "codemirror_mode": {
    "name": "ipython",
    "version": 3
   },
   "file_extension": ".py",
   "mimetype": "text/x-python",
   "name": "python",
   "nbconvert_exporter": "python",
   "pygments_lexer": "ipython3",
   "version": "3.13.3"
  }
 },
 "nbformat": 4,
 "nbformat_minor": 5
}
